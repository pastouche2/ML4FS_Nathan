{
 "cells": [
  {
   "cell_type": "code",
   "execution_count": 50,
   "id": "initial_id",
   "metadata": {
    "collapsed": true,
    "ExecuteTime": {
     "end_time": "2024-02-23T09:27:51.987350Z",
     "start_time": "2024-02-23T09:27:51.979704Z"
    }
   },
   "outputs": [],
   "source": [
    "import pandas as pd\n",
    "\n",
    "import language_parser_lastname\n",
    "import flag\n",
    "import ast"
   ]
  },
  {
   "cell_type": "code",
   "execution_count": 51,
   "outputs": [
    {
     "name": "stdout",
     "output_type": "stream",
     "text": [
      "US\n",
      "n\n",
      "MX\n",
      "b1\n",
      "DE\n",
      "a2\n",
      "IT\n",
      "a2\n"
     ]
    }
   ],
   "source": [
    "test_sentence = \"🇺🇸(N) | 🇲🇽 (B1), 🇩🇪 (A2), 🇮🇹 (A2)\"\n",
    "sentence_clean =language_parser_lastname.preprocess_text_tokenisation(test_sentence)\n",
    "corpus_final = []\n",
    "N = []\n",
    "C2 = []\n",
    "C1 = []\n",
    "B2 = []\n",
    "B1 = []\n",
    "A2 = []\n",
    "A1 = []\n",
    "# YOUR CODE HERE\n",
    "\n",
    "balises = [\"n\", \"c2\", \"c1\", \"b2\", \"b1\", \"a2\", \"a1\"]\n",
    "for word in sentence_clean:\n",
    "    word_inter = flag.dflagize(word).split(\":\")\n",
    "    # Remove empty strings from the list\n",
    "    word_inter = [w for w in word_inter if w]\n",
    "    corpus_final.extend(word_inter)\n",
    "    \n",
    "balises_on_right = corpus_final[-1] in balises\n",
    "\n",
    "seen_elements = []\n",
    "last_balise = None\n",
    "\n",
    "# Iterate over corpus_final in the appropriate direction\n",
    "iterable = reversed(corpus_final) if not balises_on_right else corpus_final\n",
    "for element in iterable:\n",
    "    print(element)\n",
    "    if element in balises:\n",
    "        last_balise = element\n",
    "        # Add the seen elements to the appropriate list\n",
    "        if last_balise == \"n\":\n",
    "            N.extend(seen_elements)\n",
    "        elif last_balise == \"c2\":\n",
    "            C2.extend(seen_elements)\n",
    "        elif last_balise == \"c1\":\n",
    "            C1.extend(seen_elements)\n",
    "        elif last_balise == \"b2\":\n",
    "            B2.extend(seen_elements)\n",
    "        elif last_balise == \"b1\":\n",
    "            B1.extend(seen_elements)\n",
    "        elif last_balise == \"a2\":\n",
    "            A2.extend(seen_elements)\n",
    "        elif last_balise == \"a1\":\n",
    "            A1.extend(seen_elements)\n",
    "        # Clear the seen elements list and update the last balise\n",
    "        seen_elements = []\n",
    "        \n",
    "    else:\n",
    "        # Add the element to the seen elements list\n",
    "        seen_elements.append(element)\n",
    "\n",
    "        # Add any remaining seen elements to the appropriate list\n",
    "if last_balise == \"n\":\n",
    "    N.extend(seen_elements)\n",
    "elif last_balise == \"c2\":\n",
    "    C2.extend(seen_elements)\n",
    "elif last_balise == \"c1\":\n",
    "    C1.extend(seen_elements)\n",
    "elif last_balise == \"b2\":\n",
    "    B2.extend(seen_elements)\n",
    "elif last_balise == \"b1\":\n",
    "    B1.extend(seen_elements)\n",
    "elif last_balise == \"a2\":\n",
    "    A2.extend(seen_elements)\n",
    "elif last_balise == \"a1\":\n",
    "    A1.extend(seen_elements)\n",
    "tuple_final = (N, C2, C1, B2, B1, A2, A1)\n",
    "\n",
    "\n"
   ],
   "metadata": {
    "collapsed": false,
    "ExecuteTime": {
     "end_time": "2024-02-23T09:27:52.006470Z",
     "start_time": "2024-02-23T09:27:51.990005Z"
    }
   },
   "id": "406baa01f1836818"
  },
  {
   "cell_type": "code",
   "execution_count": 52,
   "outputs": [
    {
     "name": "stdout",
     "output_type": "stream",
     "text": [
      "🇺🇸(N) | 🇲🇽 (B1), 🇩🇪 (A2), 🇮🇹 (A2)\n",
      "US [] None\n",
      "n ['US'] None\n",
      "MX [] n\n",
      "b1 ['MX'] n\n",
      "DE [] b1\n",
      "a2 ['DE'] b1\n",
      "IT [] a2\n",
      "a2 ['IT'] a2\n",
      "(['US'], [], [], [], ['MX'], ['DE', 'IT'], [])\n",
      "[['en', 'es', 'haw'], [], [], [], ['es', 'vec'], ['de', 'frr', 'fr', 'it', 'vec'], []]\n"
     ]
    }
   ],
   "source": [
    "print(test_sentence)\n",
    "print(language_parser_lastname.parse_language(test_sentence))"
   ],
   "metadata": {
    "collapsed": false,
    "ExecuteTime": {
     "end_time": "2024-02-23T09:27:52.044831Z",
     "start_time": "2024-02-23T09:27:51.995521Z"
    }
   },
   "id": "15d5a3c43e47b678"
  },
  {
   "cell_type": "code",
   "execution_count": 53,
   "outputs": [
    {
     "data": {
      "text/plain": "    country                                    en  \\\n0        AC  {'percent': 99.0, 'official': False}   \n1        AD                                   NaN   \n2        AE  {'percent': 50.0, 'official': False}   \n3        AF                                   NaN   \n4        AG   {'percent': 86.0, 'official': True}   \n..      ...                                   ...   \n252      YT                                   NaN   \n253      ZA   {'percent': 31.0, 'official': True}   \n254      ZM   {'percent': 16.0, 'official': True}   \n255      ZW   {'percent': 42.0, 'official': True}   \n256      ZZ                                   NaN   \n\n                                      ca  \\\n0                                    NaN   \n1    {'percent': 51.0, 'official': True}   \n2                                    NaN   \n3                                    NaN   \n4                                    NaN   \n..                                   ...   \n252                                  NaN   \n253                                  NaN   \n254                                  NaN   \n255                                  NaN   \n256                                  NaN   \n\n                                       es  \\\n0                                     NaN   \n1    {'percent': 43.0, 'official': False}   \n2                                     NaN   \n3                                     NaN   \n4                                     NaN   \n..                                    ...   \n252                                   NaN   \n253                                   NaN   \n254                                   NaN   \n255                                   NaN   \n256                                   NaN   \n\n                                      fr                                   ar  \\\n0                                    NaN                                  NaN   \n1    {'percent': 7.5, 'official': False}                                  NaN   \n2                                    NaN  {'percent': 78.0, 'official': True}   \n3                                    NaN                                  NaN   \n4                                    NaN                                  NaN   \n..                                   ...                                  ...   \n252  {'percent': 57.0, 'official': True}                                  NaN   \n253                                  NaN                                  NaN   \n254                                  NaN                                  NaN   \n255                                  NaN                                  NaN   \n256                                  NaN                                  NaN   \n\n                                      ml                                   ps  \\\n0                                    NaN                                  NaN   \n1                                    NaN                                  NaN   \n2    {'percent': 7.0, 'official': False}  {'percent': 2.9, 'official': False}   \n3                                    NaN  {'percent': 43.0, 'official': True}   \n4                                    NaN                                  NaN   \n..                                   ...                                  ...   \n252                                  NaN                                  NaN   \n253                                  NaN                                  NaN   \n254                                  NaN                                  NaN   \n255                                  NaN                                  NaN   \n256                                  NaN                                  NaN   \n\n                                     bal                                   fa  \\\n0                                    NaN                                  NaN   \n1                                    NaN                                  NaN   \n2    {'percent': 2.3, 'official': False}  {'percent': 1.9, 'official': False}   \n3                                    NaN  {'percent': 50.0, 'official': True}   \n4                                    NaN                                  NaN   \n..                                   ...                                  ...   \n252                                  NaN                                  NaN   \n253                                  NaN                                  NaN   \n254                                  NaN                                  NaN   \n255                                  NaN                                  NaN   \n256                                  NaN                                  NaN   \n\n     ...                                   buc  \\\n0    ...                                   NaN   \n1    ...                                   NaN   \n2    ...                                   NaN   \n3    ...                                   NaN   \n4    ...                                   NaN   \n..   ...                                   ...   \n252  ...  {'percent': 23.0, 'official': False}   \n253  ...                                   NaN   \n254  ...                                   NaN   \n255  ...                                   NaN   \n256  ...                                   NaN   \n\n                                    nso                                    ve  \\\n0                                   NaN                                   NaN   \n1                                   NaN                                   NaN   \n2                                   NaN                                   NaN   \n3                                   NaN                                   NaN   \n4                                   NaN                                   NaN   \n..                                  ...                                   ...   \n252                                 NaN                                   NaN   \n253  {'percent': 9.4, 'official': True}    {'percent': 2.3, 'official': True}   \n254                                 NaN                                   NaN   \n255                                 NaN  {'percent': 0.64, 'official': False}   \n256                                 NaN                                   NaN   \n\n                                     nr                                   bem  \\\n0                                   NaN                                   NaN   \n1                                   NaN                                   NaN   \n2                                   NaN                                   NaN   \n3                                   NaN                                   NaN   \n4                                   NaN                                   NaN   \n..                                  ...                                   ...   \n252                                 NaN                                   NaN   \n253  {'percent': 1.6, 'official': True}                                   NaN   \n254                                 NaN  {'percent': 31.0, 'official': False}   \n255                                 NaN                                   NaN   \n256                                 NaN                                   NaN   \n\n                                     loz                                   sn  \\\n0                                    NaN                                  NaN   \n1                                    NaN                                  NaN   \n2                                    NaN                                  NaN   \n3                                    NaN                                  NaN   \n4                                    NaN                                  NaN   \n..                                   ...                                  ...   \n252                                  NaN                                  NaN   \n253                                  NaN                                  NaN   \n254  {'percent': 6.0, 'official': False}                                  NaN   \n255                                  NaN  {'percent': 81.0, 'official': True}   \n256                                  NaN                                  NaN   \n\n                                      nd                                  mxc  \\\n0                                    NaN                                  NaN   \n1                                    NaN                                  NaN   \n2                                    NaN                                  NaN   \n3                                    NaN                                  NaN   \n4                                    NaN                                  NaN   \n..                                   ...                                  ...   \n252                                  NaN                                  NaN   \n253                                  NaN                                  NaN   \n254                                  NaN                                  NaN   \n255  {'percent': 12.0, 'official': True}  {'percent': 6.5, 'official': False}   \n256                                  NaN                                  NaN   \n\n                                     kck  \n0                                    NaN  \n1                                    NaN  \n2                                    NaN  \n3                                    NaN  \n4                                    NaN  \n..                                   ...  \n252                                  NaN  \n253                                  NaN  \n254                                  NaN  \n255  {'percent': 5.3, 'official': False}  \n256                                  NaN  \n\n[257 rows x 705 columns]",
      "text/html": "<div>\n<style scoped>\n    .dataframe tbody tr th:only-of-type {\n        vertical-align: middle;\n    }\n\n    .dataframe tbody tr th {\n        vertical-align: top;\n    }\n\n    .dataframe thead th {\n        text-align: right;\n    }\n</style>\n<table border=\"1\" class=\"dataframe\">\n  <thead>\n    <tr style=\"text-align: right;\">\n      <th></th>\n      <th>country</th>\n      <th>en</th>\n      <th>ca</th>\n      <th>es</th>\n      <th>fr</th>\n      <th>ar</th>\n      <th>ml</th>\n      <th>ps</th>\n      <th>bal</th>\n      <th>fa</th>\n      <th>...</th>\n      <th>buc</th>\n      <th>nso</th>\n      <th>ve</th>\n      <th>nr</th>\n      <th>bem</th>\n      <th>loz</th>\n      <th>sn</th>\n      <th>nd</th>\n      <th>mxc</th>\n      <th>kck</th>\n    </tr>\n  </thead>\n  <tbody>\n    <tr>\n      <th>0</th>\n      <td>AC</td>\n      <td>{'percent': 99.0, 'official': False}</td>\n      <td>NaN</td>\n      <td>NaN</td>\n      <td>NaN</td>\n      <td>NaN</td>\n      <td>NaN</td>\n      <td>NaN</td>\n      <td>NaN</td>\n      <td>NaN</td>\n      <td>...</td>\n      <td>NaN</td>\n      <td>NaN</td>\n      <td>NaN</td>\n      <td>NaN</td>\n      <td>NaN</td>\n      <td>NaN</td>\n      <td>NaN</td>\n      <td>NaN</td>\n      <td>NaN</td>\n      <td>NaN</td>\n    </tr>\n    <tr>\n      <th>1</th>\n      <td>AD</td>\n      <td>NaN</td>\n      <td>{'percent': 51.0, 'official': True}</td>\n      <td>{'percent': 43.0, 'official': False}</td>\n      <td>{'percent': 7.5, 'official': False}</td>\n      <td>NaN</td>\n      <td>NaN</td>\n      <td>NaN</td>\n      <td>NaN</td>\n      <td>NaN</td>\n      <td>...</td>\n      <td>NaN</td>\n      <td>NaN</td>\n      <td>NaN</td>\n      <td>NaN</td>\n      <td>NaN</td>\n      <td>NaN</td>\n      <td>NaN</td>\n      <td>NaN</td>\n      <td>NaN</td>\n      <td>NaN</td>\n    </tr>\n    <tr>\n      <th>2</th>\n      <td>AE</td>\n      <td>{'percent': 50.0, 'official': False}</td>\n      <td>NaN</td>\n      <td>NaN</td>\n      <td>NaN</td>\n      <td>{'percent': 78.0, 'official': True}</td>\n      <td>{'percent': 7.0, 'official': False}</td>\n      <td>{'percent': 2.9, 'official': False}</td>\n      <td>{'percent': 2.3, 'official': False}</td>\n      <td>{'percent': 1.9, 'official': False}</td>\n      <td>...</td>\n      <td>NaN</td>\n      <td>NaN</td>\n      <td>NaN</td>\n      <td>NaN</td>\n      <td>NaN</td>\n      <td>NaN</td>\n      <td>NaN</td>\n      <td>NaN</td>\n      <td>NaN</td>\n      <td>NaN</td>\n    </tr>\n    <tr>\n      <th>3</th>\n      <td>AF</td>\n      <td>NaN</td>\n      <td>NaN</td>\n      <td>NaN</td>\n      <td>NaN</td>\n      <td>NaN</td>\n      <td>NaN</td>\n      <td>{'percent': 43.0, 'official': True}</td>\n      <td>NaN</td>\n      <td>{'percent': 50.0, 'official': True}</td>\n      <td>...</td>\n      <td>NaN</td>\n      <td>NaN</td>\n      <td>NaN</td>\n      <td>NaN</td>\n      <td>NaN</td>\n      <td>NaN</td>\n      <td>NaN</td>\n      <td>NaN</td>\n      <td>NaN</td>\n      <td>NaN</td>\n    </tr>\n    <tr>\n      <th>4</th>\n      <td>AG</td>\n      <td>{'percent': 86.0, 'official': True}</td>\n      <td>NaN</td>\n      <td>NaN</td>\n      <td>NaN</td>\n      <td>NaN</td>\n      <td>NaN</td>\n      <td>NaN</td>\n      <td>NaN</td>\n      <td>NaN</td>\n      <td>...</td>\n      <td>NaN</td>\n      <td>NaN</td>\n      <td>NaN</td>\n      <td>NaN</td>\n      <td>NaN</td>\n      <td>NaN</td>\n      <td>NaN</td>\n      <td>NaN</td>\n      <td>NaN</td>\n      <td>NaN</td>\n    </tr>\n    <tr>\n      <th>...</th>\n      <td>...</td>\n      <td>...</td>\n      <td>...</td>\n      <td>...</td>\n      <td>...</td>\n      <td>...</td>\n      <td>...</td>\n      <td>...</td>\n      <td>...</td>\n      <td>...</td>\n      <td>...</td>\n      <td>...</td>\n      <td>...</td>\n      <td>...</td>\n      <td>...</td>\n      <td>...</td>\n      <td>...</td>\n      <td>...</td>\n      <td>...</td>\n      <td>...</td>\n      <td>...</td>\n    </tr>\n    <tr>\n      <th>252</th>\n      <td>YT</td>\n      <td>NaN</td>\n      <td>NaN</td>\n      <td>NaN</td>\n      <td>{'percent': 57.0, 'official': True}</td>\n      <td>NaN</td>\n      <td>NaN</td>\n      <td>NaN</td>\n      <td>NaN</td>\n      <td>NaN</td>\n      <td>...</td>\n      <td>{'percent': 23.0, 'official': False}</td>\n      <td>NaN</td>\n      <td>NaN</td>\n      <td>NaN</td>\n      <td>NaN</td>\n      <td>NaN</td>\n      <td>NaN</td>\n      <td>NaN</td>\n      <td>NaN</td>\n      <td>NaN</td>\n    </tr>\n    <tr>\n      <th>253</th>\n      <td>ZA</td>\n      <td>{'percent': 31.0, 'official': True}</td>\n      <td>NaN</td>\n      <td>NaN</td>\n      <td>NaN</td>\n      <td>NaN</td>\n      <td>NaN</td>\n      <td>NaN</td>\n      <td>NaN</td>\n      <td>NaN</td>\n      <td>...</td>\n      <td>NaN</td>\n      <td>{'percent': 9.4, 'official': True}</td>\n      <td>{'percent': 2.3, 'official': True}</td>\n      <td>{'percent': 1.6, 'official': True}</td>\n      <td>NaN</td>\n      <td>NaN</td>\n      <td>NaN</td>\n      <td>NaN</td>\n      <td>NaN</td>\n      <td>NaN</td>\n    </tr>\n    <tr>\n      <th>254</th>\n      <td>ZM</td>\n      <td>{'percent': 16.0, 'official': True}</td>\n      <td>NaN</td>\n      <td>NaN</td>\n      <td>NaN</td>\n      <td>NaN</td>\n      <td>NaN</td>\n      <td>NaN</td>\n      <td>NaN</td>\n      <td>NaN</td>\n      <td>...</td>\n      <td>NaN</td>\n      <td>NaN</td>\n      <td>NaN</td>\n      <td>NaN</td>\n      <td>{'percent': 31.0, 'official': False}</td>\n      <td>{'percent': 6.0, 'official': False}</td>\n      <td>NaN</td>\n      <td>NaN</td>\n      <td>NaN</td>\n      <td>NaN</td>\n    </tr>\n    <tr>\n      <th>255</th>\n      <td>ZW</td>\n      <td>{'percent': 42.0, 'official': True}</td>\n      <td>NaN</td>\n      <td>NaN</td>\n      <td>NaN</td>\n      <td>NaN</td>\n      <td>NaN</td>\n      <td>NaN</td>\n      <td>NaN</td>\n      <td>NaN</td>\n      <td>...</td>\n      <td>NaN</td>\n      <td>NaN</td>\n      <td>{'percent': 0.64, 'official': False}</td>\n      <td>NaN</td>\n      <td>NaN</td>\n      <td>NaN</td>\n      <td>{'percent': 81.0, 'official': True}</td>\n      <td>{'percent': 12.0, 'official': True}</td>\n      <td>{'percent': 6.5, 'official': False}</td>\n      <td>{'percent': 5.3, 'official': False}</td>\n    </tr>\n    <tr>\n      <th>256</th>\n      <td>ZZ</td>\n      <td>NaN</td>\n      <td>NaN</td>\n      <td>NaN</td>\n      <td>NaN</td>\n      <td>NaN</td>\n      <td>NaN</td>\n      <td>NaN</td>\n      <td>NaN</td>\n      <td>NaN</td>\n      <td>...</td>\n      <td>NaN</td>\n      <td>NaN</td>\n      <td>NaN</td>\n      <td>NaN</td>\n      <td>NaN</td>\n      <td>NaN</td>\n      <td>NaN</td>\n      <td>NaN</td>\n      <td>NaN</td>\n      <td>NaN</td>\n    </tr>\n  </tbody>\n</table>\n<p>257 rows × 705 columns</p>\n</div>"
     },
     "execution_count": 53,
     "metadata": {},
     "output_type": "execute_result"
    }
   ],
   "source": [
    "df = pd.read_csv(\"countries_to_langs.csv\")\n",
    "df"
   ],
   "metadata": {
    "collapsed": false,
    "ExecuteTime": {
     "end_time": "2024-02-23T09:27:52.055109Z",
     "start_time": "2024-02-23T09:27:52.028043Z"
    }
   },
   "id": "757f37472ae26e31"
  },
  {
   "cell_type": "code",
   "execution_count": 55,
   "outputs": [
    {
     "name": "stdout",
     "output_type": "stream",
     "text": [
      "[['en'], [], [], [], ['es'], ['de', 'it'], []]\n"
     ]
    }
   ],
   "source": [
    "df = pd.read_csv(\"countries_to_langs.csv\")\n",
    "df_iso =pd.read_csv(\"iso_codes.csv\")\n",
    "def get_official_languages(countries, df_languages, df_ISO):\n",
    "    languages = []\n",
    "    for country in countries:\n",
    "        #if len(country) >2 :\n",
    "            #filtered_df = df_ISO[df_ISO[\"Name-en\"] == country.capitalize()]\n",
    "            #if not filtered_df.empty:\n",
    "                #country = filtered_df[\"ISO-Code\"].iloc[0]\n",
    "            #else:\n",
    "                #print(f\"No ISO code found for country: {country}\")\n",
    "                # Handle the case where no ISO code is found for the country\n",
    "        country_languages = df_languages[df_languages[\"country\"] == country].dropna(axis=1, how=\"all\")\n",
    "        column_names = country_languages.columns[1:]\n",
    "        for language in column_names:\n",
    "            language_dict = country_languages[language].iloc[0]\n",
    "            dict_language = ast.literal_eval(language_dict)\n",
    "            if int(dict_language['percent']) >=70 :\n",
    "                languages.append(language)\n",
    "    return languages\n",
    "\n",
    "tuple_final = [get_official_languages(countries, df,df_iso) for countries in tuple_final]\n",
    "print(tuple_final)"
   ],
   "metadata": {
    "collapsed": false,
    "ExecuteTime": {
     "end_time": "2024-02-23T09:27:57.096124Z",
     "start_time": "2024-02-23T09:27:57.058010Z"
    }
   },
   "id": "ba87037e3ec46b5c"
  },
  {
   "cell_type": "code",
   "execution_count": null,
   "outputs": [],
   "source": [
    "df_iso = pd.read_csv(\"iso_codes.csv\")\n",
    "country = df_iso[df_iso[\"Name-en\"] == \"Aragonese\"][\"ISO-Code\"].iloc[0]\n",
    "print(country)"
   ],
   "metadata": {
    "collapsed": false,
    "ExecuteTime": {
     "end_time": "2024-02-23T09:27:52.063029Z",
     "start_time": "2024-02-23T09:27:52.061444Z"
    }
   },
   "id": "35ef160fa5de4923"
  }
 ],
 "metadata": {
  "kernelspec": {
   "display_name": "Python 3",
   "language": "python",
   "name": "python3"
  },
  "language_info": {
   "codemirror_mode": {
    "name": "ipython",
    "version": 2
   },
   "file_extension": ".py",
   "mimetype": "text/x-python",
   "name": "python",
   "nbconvert_exporter": "python",
   "pygments_lexer": "ipython2",
   "version": "2.7.6"
  }
 },
 "nbformat": 4,
 "nbformat_minor": 5
}
