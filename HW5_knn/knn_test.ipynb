{
 "nbformat": 4,
 "nbformat_minor": 0,
 "metadata": {
  "colab": {
   "provenance": []
  },
  "kernelspec": {
   "name": "python3",
   "language": "python",
   "display_name": "Python 3 (ipykernel)"
  },
  "language_info": {
   "name": "python"
  }
 },
 "cells": [
  {
   "cell_type": "markdown",
   "source": [
    "K-Nearest Neighbors (KNN) is a simple yet effective algorithm used for classification where a data point is assigned a class based on the majority class of its nearest neighbors. It operates on the principle of similarity, where the prediction for a new instance is determined by the labels of its closest k neighbors in the training data.\n",
    "\n",
    "Your task is to write the KNN classifier from scratch. We've provided a skeleton to get you started.\n",
    "\n",
    "---"
   ],
   "metadata": {
    "id": "9Yz_gYljqC88"
   }
  },
  {
   "cell_type": "markdown",
   "source": [
    "Imports and parameters. Note: no other libraries can be input."
   ],
   "metadata": {
    "id": "eT49wdd6o2bd"
   }
  },
  {
   "cell_type": "code",
   "execution_count": 1,
   "metadata": {
    "id": "G3UoSvpfozio",
    "ExecuteTime": {
     "end_time": "2024-03-27T11:07:45.941909Z",
     "start_time": "2024-03-27T11:07:45.939491Z"
    }
   },
   "outputs": [],
   "source": [
    "import numpy as np\n",
    "k = 3"
   ]
  },
  {
   "cell_type": "markdown",
   "source": [
    "A function that computes the distance between 2 points"
   ],
   "metadata": {
    "id": "phcQKkk0o50D"
   }
  },
  {
   "cell_type": "code",
   "source": [
    "def euclidean_distance(x1, x2):\n",
    "        return np.sqrt(np.sum((x1 - x2) ** 2))"
   ],
   "metadata": {
    "id": "8mYx01lXo54q",
    "ExecuteTime": {
     "end_time": "2024-03-27T11:07:45.945868Z",
     "start_time": "2024-03-27T11:07:45.943402Z"
    }
   },
   "execution_count": 2,
   "outputs": []
  },
  {
   "cell_type": "markdown",
   "source": [
    "\n",
    "Some fake data to test on"
   ],
   "metadata": {
    "id": "443C8GYGpA6n"
   }
  },
  {
   "cell_type": "code",
   "source": [
    "\n",
    "num_features = 20\n",
    "num_train = 50\n",
    "num_test = 5\n",
    "\n",
    "# create fake data\n",
    "np.random.seed(42)\n",
    "\n",
    "# Generate dummy train data\n",
    "train_data = np.random.rand(num_train, num_features)\n",
    "train_labels = np.random.randint(0, 2, num_train)\n",
    "\n",
    "# Generate dummy test data\n",
    "test_data = np.random.rand(num_test, num_features)\n",
    "test_labels = np.random.randint(0,2, num_test)"
   ],
   "metadata": {
    "id": "qsyyxz6qpA_n",
    "colab": {
     "base_uri": "https://localhost:8080/"
    },
    "outputId": "575e3c38-baab-4614-db80-282df830b5f9",
    "ExecuteTime": {
     "end_time": "2024-03-27T11:32:40.572453Z",
     "start_time": "2024-03-27T11:32:40.564137Z"
    }
   },
   "execution_count": 19,
   "outputs": []
  },
  {
   "cell_type": "markdown",
   "source": [
    "You code goes in the next block."
   ],
   "metadata": {
    "id": "cEfxh7Z5pHIY"
   }
  },
  {
   "cell_type": "code",
   "source": [
    "class KNN:\n",
    "  def __init__(self, k=3):\n",
    "    self.k = k\n",
    "  def fit(self, X, y):\n",
    "    self.X_train = X\n",
    "    self.y_train = y\n",
    "  def predict(self, X):\n",
    "    predictions = [self._predict(x) for x in X]\n",
    "    return predictions\n",
    "      \n",
    "  def _predict(self, x):\n",
    "    distances = [euclidean_distance(x, x_train) for x_train in self.X_train]\n",
    "    k_indices = np.argsort(distances)[:self.k]\n",
    "    predict = [self.y_train[y] for y in k_indices]\n",
    "    return self.most_common_inlist(predict)\n",
    "    \n",
    "  \n",
    "  def most_common_inlist(self, X):\n",
    "    list_counters =[]\n",
    "    for element in X:\n",
    "      counter = 0\n",
    "      for j in range(len(X)-1):\n",
    "        if element==X[j]:\n",
    "          counter += 1\n",
    "      list_counters.append(counter)\n",
    "    return X[np.argsort(list_counters)[-1]]\n",
    "\n",
    "    \n",
    "classifier = KNN()\n",
    "classifier.fit(train_data, train_labels)\n",
    "result = classifier.predict(test_data)\n",
    "acc = np.sum(result==test_labels)/(len(result))\n",
    "print(\"Result:\" ,result)\n",
    "print(\"Accuracy:\", acc)\n",
    "print(\"Test labels:\", list(test_labels))"
   ],
   "metadata": {
    "id": "QUhbWRrkpHSu",
    "ExecuteTime": {
     "end_time": "2024-03-27T11:25:40.870414Z",
     "start_time": "2024-03-27T11:25:40.858808Z"
    }
   },
   "execution_count": 17,
   "outputs": [
    {
     "name": "stdout",
     "output_type": "stream",
     "text": [
      "Result: [0, 0, 1, 0, 0]\n",
      "Accuracy: 0.4\n",
      "Test labels: [0, 0, 0, 1, 1]\n"
     ]
    }
   ]
  },
  {
   "cell_type": "code",
   "outputs": [],
   "source": [],
   "metadata": {
    "collapsed": false
   }
  }
 ]
}
